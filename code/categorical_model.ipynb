{
 "cells": [
  {
   "cell_type": "code",
   "execution_count": 2,
   "id": "a3adf247",
   "metadata": {},
   "outputs": [],
   "source": [
    "import numpy as np\n",
    "import matplotlib.pyplot as plt\n",
    "import pandas as pd\n",
    "from sklearn.preprocessing import StandardScaler\n",
    "from sklearn.linear_model import LogisticRegression\n",
    "from sklearn.model_selection import GridSearchCV\n",
    "from sklearn.model_selection import train_test_split\n",
    "from sklearn.metrics import confusion_matrix\n",
    "from sklearn.metrics import accuracy_score"
   ]
  },
  {
   "cell_type": "code",
   "execution_count": 3,
   "id": "db7b7060",
   "metadata": {},
   "outputs": [
    {
     "name": "stdout",
     "output_type": "stream",
     "text": [
      "<class 'pandas.core.frame.DataFrame'>\n",
      "RangeIndex: 26664 entries, 0 to 26663\n",
      "Data columns (total 25 columns):\n",
      " #   Column                      Non-Null Count  Dtype \n",
      "---  ------                      --------------  ----- \n",
      " 0   ID                          26664 non-null  object\n",
      " 1   LIMIT_BAL                   26664 non-null  int64 \n",
      " 2   SEX                         26664 non-null  int64 \n",
      " 3   EDUCATION                   26664 non-null  int64 \n",
      " 4   MARRIAGE                    26664 non-null  int64 \n",
      " 5   AGE                         26664 non-null  int64 \n",
      " 6   PAY_1                       26664 non-null  int64 \n",
      " 7   PAY_2                       26664 non-null  int64 \n",
      " 8   PAY_3                       26664 non-null  int64 \n",
      " 9   PAY_4                       26664 non-null  int64 \n",
      " 10  PAY_5                       26664 non-null  int64 \n",
      " 11  PAY_6                       26664 non-null  int64 \n",
      " 12  BILL_AMT1                   26664 non-null  int64 \n",
      " 13  BILL_AMT2                   26664 non-null  int64 \n",
      " 14  BILL_AMT3                   26664 non-null  int64 \n",
      " 15  BILL_AMT4                   26664 non-null  int64 \n",
      " 16  BILL_AMT5                   26664 non-null  int64 \n",
      " 17  BILL_AMT6                   26664 non-null  int64 \n",
      " 18  PAY_AMT1                    26664 non-null  int64 \n",
      " 19  PAY_AMT2                    26664 non-null  int64 \n",
      " 20  PAY_AMT3                    26664 non-null  int64 \n",
      " 21  PAY_AMT4                    26664 non-null  int64 \n",
      " 22  PAY_AMT5                    26664 non-null  int64 \n",
      " 23  PAY_AMT6                    26664 non-null  int64 \n",
      " 24  default payment next month  26664 non-null  int64 \n",
      "dtypes: int64(24), object(1)\n",
      "memory usage: 5.1+ MB\n"
     ]
    }
   ],
   "source": [
    "df = pd.read_csv('cleaned_data_0.csv')\n",
    "df.info()"
   ]
  },
  {
   "cell_type": "code",
   "execution_count": 4,
   "id": "131d691c",
   "metadata": {},
   "outputs": [],
   "source": [
    "Non_features = ['ID','default payment next month','SEX',\n",
    "                'EDUCATION','MARRIAGE','BILL_AMT1','BILL_AMT2','BILL_AMT3',\n",
    "                'BILL_AMT4','BILL_AMT5','BILL_AMT6','AGE']\n",
    "X = df.drop(columns=Non_features).values\n",
    "Y = df.iloc[:,24].values"
   ]
  },
  {
   "cell_type": "code",
   "execution_count": 5,
   "id": "45ebd0a1",
   "metadata": {},
   "outputs": [
    {
     "name": "stdout",
     "output_type": "stream",
     "text": [
      "(26664, 13) (26664,)\n"
     ]
    }
   ],
   "source": [
    "from sklearn.preprocessing import RobustScaler\n",
    "scale = RobustScaler(quantile_range=(15.0, 85.0))\n",
    "\n",
    "X_scale = scale.fit_transform(X)\n",
    "Y_scale = Y.ravel()\n",
    "\n",
    "print(X_scale.shape,Y_scale.shape)"
   ]
  },
  {
   "cell_type": "code",
   "execution_count": 6,
   "id": "1cbe8b2a",
   "metadata": {},
   "outputs": [],
   "source": [
    "X_train, X_test, Y_train, Y_test = train_test_split(X_scale, Y_scale, test_size=0.2, random_state=42)"
   ]
  },
  {
   "cell_type": "code",
   "execution_count": null,
   "id": "0ad82825",
   "metadata": {},
   "outputs": [],
   "source": []
  },
  {
   "cell_type": "code",
   "execution_count": null,
   "id": "8011a25d",
   "metadata": {},
   "outputs": [],
   "source": []
  },
  {
   "cell_type": "code",
   "execution_count": 7,
   "id": "1916d4b7",
   "metadata": {},
   "outputs": [],
   "source": [
    "parameters = {\n",
    "    'alpha': [1, 3, 10],\n",
    "    'binarize': [0.0, None],\n",
    "    'fit_prior': [True, False]\n",
    "}"
   ]
  },
  {
   "cell_type": "code",
   "execution_count": 9,
   "id": "a5908919",
   "metadata": {},
   "outputs": [
    {
     "name": "stdout",
     "output_type": "stream",
     "text": [
      "The best Naive Bayes model:\n",
      " {'alpha': 1, 'binarize': 0.0, 'fit_prior': False}\n"
     ]
    }
   ],
   "source": [
    "from sklearn.naive_bayes import BernoulliNB\n",
    "from sklearn.metrics import classification_report\n",
    "clf = BernoulliNB()\n",
    "clf = GridSearchCV(clf, param_grid=parameters, scoring='recall', n_jobs = -1, cv = 5)\n",
    "clf = clf.fit(X_train,Y_train)\n",
    "print('The best Naive Bayes model:\\n', clf.best_params_)"
   ]
  },
  {
   "cell_type": "code",
   "execution_count": 11,
   "id": "19530981",
   "metadata": {},
   "outputs": [
    {
     "data": {
      "image/png": "[encoded data removed]",
      "text/plain": [
       "<Figure size 432x288 with 2 Axes>"
      ]
     },
     "metadata": {
      "needs_background": "light"
     },
     "output_type": "display_data"
    },
    {
     "name": "stdout",
     "output_type": "stream",
     "text": [
      "              precision    recall  f1-score   support\n",
      "\n",
      "           0       0.87      0.82      0.84      4183\n",
      "           1       0.46      0.56      0.50      1150\n",
      "\n",
      "    accuracy                           0.76      5333\n",
      "   macro avg       0.66      0.69      0.67      5333\n",
      "weighted avg       0.78      0.76      0.77      5333\n",
      "\n"
     ]
    },
    {
     "name": "stderr",
     "output_type": "stream",
     "text": [
      "/Users/haoli/opt/anaconda3/lib/python3.8/site-packages/sklearn/naive_bayes.py:1168: RuntimeWarning: invalid value encountered in log\n",
      "  self.feature_log_prob_ = np.log(smoothed_fc) - np.log(\n",
      "/Users/haoli/opt/anaconda3/lib/python3.8/site-packages/sklearn/naive_bayes.py:1168: RuntimeWarning: invalid value encountered in log\n",
      "  self.feature_log_prob_ = np.log(smoothed_fc) - np.log(\n",
      "/Users/haoli/opt/anaconda3/lib/python3.8/site-packages/sklearn/naive_bayes.py:1168: RuntimeWarning: invalid value encountered in log\n",
      "  self.feature_log_prob_ = np.log(smoothed_fc) - np.log(\n",
      "/Users/haoli/opt/anaconda3/lib/python3.8/site-packages/sklearn/naive_bayes.py:1168: RuntimeWarning: invalid value encountered in log\n",
      "  self.feature_log_prob_ = np.log(smoothed_fc) - np.log(\n",
      "/Users/haoli/opt/anaconda3/lib/python3.8/site-packages/sklearn/naive_bayes.py:1168: RuntimeWarning: invalid value encountered in log\n",
      "  self.feature_log_prob_ = np.log(smoothed_fc) - np.log(\n",
      "/Users/haoli/opt/anaconda3/lib/python3.8/site-packages/sklearn/naive_bayes.py:1168: RuntimeWarning: invalid value encountered in log\n",
      "  self.feature_log_prob_ = np.log(smoothed_fc) - np.log(\n",
      "/Users/haoli/opt/anaconda3/lib/python3.8/site-packages/sklearn/naive_bayes.py:1168: RuntimeWarning: invalid value encountered in log\n",
      "  self.feature_log_prob_ = np.log(smoothed_fc) - np.log(\n",
      "/Users/haoli/opt/anaconda3/lib/python3.8/site-packages/sklearn/naive_bayes.py:1168: RuntimeWarning: invalid value encountered in log\n",
      "  self.feature_log_prob_ = np.log(smoothed_fc) - np.log(\n",
      "/Users/haoli/opt/anaconda3/lib/python3.8/site-packages/sklearn/naive_bayes.py:1168: RuntimeWarning: invalid value encountered in log\n",
      "  self.feature_log_prob_ = np.log(smoothed_fc) - np.log(\n",
      "/Users/haoli/opt/anaconda3/lib/python3.8/site-packages/sklearn/naive_bayes.py:1168: RuntimeWarning: invalid value encountered in log\n",
      "  self.feature_log_prob_ = np.log(smoothed_fc) - np.log(\n",
      "/Users/haoli/opt/anaconda3/lib/python3.8/site-packages/sklearn/naive_bayes.py:1168: RuntimeWarning: invalid value encountered in log\n",
      "  self.feature_log_prob_ = np.log(smoothed_fc) - np.log(\n",
      "/Users/haoli/opt/anaconda3/lib/python3.8/site-packages/sklearn/naive_bayes.py:1168: RuntimeWarning: invalid value encountered in log\n",
      "  self.feature_log_prob_ = np.log(smoothed_fc) - np.log(\n",
      "/Users/haoli/opt/anaconda3/lib/python3.8/site-packages/sklearn/naive_bayes.py:1168: RuntimeWarning: invalid value encountered in log\n",
      "  self.feature_log_prob_ = np.log(smoothed_fc) - np.log(\n",
      "/Users/haoli/opt/anaconda3/lib/python3.8/site-packages/sklearn/naive_bayes.py:1168: RuntimeWarning: invalid value encountered in log\n",
      "  self.feature_log_prob_ = np.log(smoothed_fc) - np.log(\n",
      "/Users/haoli/opt/anaconda3/lib/python3.8/site-packages/sklearn/naive_bayes.py:1168: RuntimeWarning: invalid value encountered in log\n",
      "  self.feature_log_prob_ = np.log(smoothed_fc) - np.log(\n",
      "/Users/haoli/opt/anaconda3/lib/python3.8/site-packages/sklearn/naive_bayes.py:1168: RuntimeWarning: invalid value encountered in log\n",
      "  self.feature_log_prob_ = np.log(smoothed_fc) - np.log(\n",
      "/Users/haoli/opt/anaconda3/lib/python3.8/site-packages/sklearn/naive_bayes.py:1168: RuntimeWarning: invalid value encountered in log\n",
      "  self.feature_log_prob_ = np.log(smoothed_fc) - np.log(\n",
      "/Users/haoli/opt/anaconda3/lib/python3.8/site-packages/sklearn/naive_bayes.py:1168: RuntimeWarning: invalid value encountered in log\n",
      "  self.feature_log_prob_ = np.log(smoothed_fc) - np.log(\n",
      "/Users/haoli/opt/anaconda3/lib/python3.8/site-packages/sklearn/naive_bayes.py:1168: RuntimeWarning: invalid value encountered in log\n",
      "  self.feature_log_prob_ = np.log(smoothed_fc) - np.log(\n",
      "/Users/haoli/opt/anaconda3/lib/python3.8/site-packages/sklearn/naive_bayes.py:1168: RuntimeWarning: invalid value encountered in log\n",
      "  self.feature_log_prob_ = np.log(smoothed_fc) - np.log(\n",
      "/Users/haoli/opt/anaconda3/lib/python3.8/site-packages/sklearn/naive_bayes.py:1168: RuntimeWarning: invalid value encountered in log\n",
      "  self.feature_log_prob_ = np.log(smoothed_fc) - np.log(\n",
      "/Users/haoli/opt/anaconda3/lib/python3.8/site-packages/sklearn/naive_bayes.py:1168: RuntimeWarning: invalid value encountered in log\n",
      "  self.feature_log_prob_ = np.log(smoothed_fc) - np.log(\n",
      "/Users/haoli/opt/anaconda3/lib/python3.8/site-packages/sklearn/naive_bayes.py:1168: RuntimeWarning: invalid value encountered in log\n",
      "  self.feature_log_prob_ = np.log(smoothed_fc) - np.log(\n",
      "/Users/haoli/opt/anaconda3/lib/python3.8/site-packages/sklearn/naive_bayes.py:1168: RuntimeWarning: invalid value encountered in log\n",
      "  self.feature_log_prob_ = np.log(smoothed_fc) - np.log(\n",
      "/Users/haoli/opt/anaconda3/lib/python3.8/site-packages/sklearn/naive_bayes.py:1168: RuntimeWarning: invalid value encountered in log\n",
      "  self.feature_log_prob_ = np.log(smoothed_fc) - np.log(\n",
      "/Users/haoli/opt/anaconda3/lib/python3.8/site-packages/sklearn/naive_bayes.py:1168: RuntimeWarning: invalid value encountered in log\n",
      "  self.feature_log_prob_ = np.log(smoothed_fc) - np.log(\n",
      "/Users/haoli/opt/anaconda3/lib/python3.8/site-packages/sklearn/naive_bayes.py:1168: RuntimeWarning: invalid value encountered in log\n",
      "  self.feature_log_prob_ = np.log(smoothed_fc) - np.log(\n",
      "/Users/haoli/opt/anaconda3/lib/python3.8/site-packages/sklearn/naive_bayes.py:1168: RuntimeWarning: invalid value encountered in log\n",
      "  self.feature_log_prob_ = np.log(smoothed_fc) - np.log(\n",
      "/Users/haoli/opt/anaconda3/lib/python3.8/site-packages/sklearn/naive_bayes.py:1168: RuntimeWarning: invalid value encountered in log\n",
      "  self.feature_log_prob_ = np.log(smoothed_fc) - np.log(\n",
      "/Users/haoli/opt/anaconda3/lib/python3.8/site-packages/sklearn/naive_bayes.py:1168: RuntimeWarning: invalid value encountered in log\n",
      "  self.feature_log_prob_ = np.log(smoothed_fc) - np.log(\n"
     ]
    }
   ],
   "source": [
    "from sklearn.metrics import ConfusionMatrixDisplay\n",
    "clf_best = clf.best_estimator_\n",
    "\n",
    "predictions =clf_best.predict(X_test)\n",
    "disp = ConfusionMatrixDisplay.from_estimator(clf_best, X_test, Y_test, display_labels=['O','1'],\n",
    "                                             cmap=plt.cm.Blues,normalize=None)\n",
    "disp.ax_.set_title(\"LR Confusion matrix\")\n",
    "\n",
    "plt.show()\n",
    "print(classification_report(Y_test,predictions))"
   ]
  },
  {
   "cell_type": "code",
   "execution_count": 7,
   "id": "33067761",
   "metadata": {},
   "outputs": [
    {
     "name": "stdout",
     "output_type": "stream",
     "text": [
      "0.7944871554472155\n",
      "[[3727  456]\n",
      " [ 640  510]]\n",
      "              precision    recall  f1-score   support\n",
      "\n",
      "           0       0.85      0.89      0.87      4183\n",
      "           1       0.53      0.44      0.48      1150\n",
      "\n",
      "    accuracy                           0.79      5333\n",
      "   macro avg       0.69      0.67      0.68      5333\n",
      "weighted avg       0.78      0.79      0.79      5333\n",
      "\n"
     ]
    }
   ],
   "source": [
    "from sklearn.naive_bayes import BernoulliNB\n",
    "from sklearn.metrics import classification_report\n",
    "\n",
    "clf = BernoulliNB(alpha=1.0, fit_prior=True)\n",
    "clf = clf.fit(X_train, Y_train)\n",
    "\n",
    "prediction = clf.predict(X_test)\n",
    "accuracy = clf.score(X_test, Y_test)\n",
    "print(accuracy)\n",
    "print(confusion_matrix(Y_test, prediction))\n",
    "print(classification_report(Y_test,prediction))"
   ]
  },
  {
   "cell_type": "code",
   "execution_count": 55,
   "id": "3e22b4db",
   "metadata": {},
   "outputs": [
    {
     "name": "stdout",
     "output_type": "stream",
     "text": [
      "0.8126757922370148\n",
      "[[4087   96]\n",
      " [ 903  247]]\n",
      "              precision    recall  f1-score   support\n",
      "\n",
      "           0       0.82      0.98      0.89      4183\n",
      "           1       0.72      0.21      0.33      1150\n",
      "\n",
      "    accuracy                           0.81      5333\n",
      "   macro avg       0.77      0.60      0.61      5333\n",
      "weighted avg       0.80      0.81      0.77      5333\n",
      "\n"
     ]
    }
   ],
   "source": [
    "clf_LR = LogisticRegression(random_state=42,C=10, penalty = 'l1',max_iter = 200, solver = 'liblinear')\n",
    "clf_LR = clf_LR.fit(X_train,Y_train)\n",
    "predictions_LR = clf_LR.predict(X_test)\n",
    "print(clf_LR.score(X_test,Y_test))\n",
    "print(confusion_matrix(Y_test, predictions_LR))\n",
    "print(classification_report(Y_test,predictions_LR))"
   ]
  },
  {
   "cell_type": "code",
   "execution_count": null,
   "id": "80cf9113",
   "metadata": {},
   "outputs": [],
   "source": []
  },
  {
   "cell_type": "code",
   "execution_count": null,
   "id": "e36dd0cf",
   "metadata": {},
   "outputs": [],
   "source": []
  },
  {
   "cell_type": "code",
   "execution_count": null,
   "id": "cd0fc84f",
   "metadata": {},
   "outputs": [],
   "source": []
  },
  {
   "cell_type": "code",
   "execution_count": 40,
   "id": "b9f1e6b8",
   "metadata": {},
   "outputs": [],
   "source": [
    "from sklearn.tree import DecisionTreeClassifier\n",
    "from sklearn.model_selection import GridSearchCV\n",
    "from sklearn.ensemble import RandomForestClassifier"
   ]
  },
  {
   "cell_type": "code",
   "execution_count": 56,
   "id": "7c390c9e",
   "metadata": {},
   "outputs": [
    {
     "name": "stdout",
     "output_type": "stream",
     "text": [
      "0.8173635852240765\n",
      "[[3933  250]\n",
      " [ 724  426]]\n",
      "              precision    recall  f1-score   support\n",
      "\n",
      "           0       0.84      0.94      0.89      4183\n",
      "           1       0.63      0.37      0.47      1150\n",
      "\n",
      "    accuracy                           0.82      5333\n",
      "   macro avg       0.74      0.66      0.68      5333\n",
      "weighted avg       0.80      0.82      0.80      5333\n",
      "\n"
     ]
    }
   ],
   "source": [
    "clf_RF = RandomForestClassifier(n_estimators=200,bootstrap = True,criterion= 'entropy')\n",
    "clf_RF = clf_RF.fit(X_train,Y_train)\n",
    "predictions_RF = clf_RF.predict(X_test)\n",
    "print(clf_RF.score(X_test,Y_test))\n",
    "print(confusion_matrix(Y_test, predictions_RF))\n",
    "print(classification_report(Y_test,predictions_RF))"
   ]
  },
  {
   "cell_type": "code",
   "execution_count": null,
   "id": "122c9b82",
   "metadata": {},
   "outputs": [],
   "source": []
  },
  {
   "cell_type": "code",
   "execution_count": null,
   "id": "f87773e7",
   "metadata": {},
   "outputs": [],
   "source": []
  },
  {
   "cell_type": "code",
   "execution_count": 53,
   "id": "cbf645c2",
   "metadata": {},
   "outputs": [
    {
     "name": "stdout",
     "output_type": "stream",
     "text": [
      "0.8205512844552785\n",
      "[[4021  162]\n",
      " [ 795  355]]\n"
     ]
    }
   ],
   "source": [
    "from sklearn.svm import SVC\n",
    "\n",
    "clf_SVC = SVC(C=10, random_state=42,kernel = 'rbf')\n",
    "clf_SVC = clf_SVC.fit(X_train,Y_train)\n",
    "predictions = clf_SVC.predict(X_test)\n",
    "print(clf_SVC.score(X_test,Y_test))\n",
    "print(confusion_matrix(Y_test, predictions))"
   ]
  },
  {
   "cell_type": "code",
   "execution_count": 54,
   "id": "2be659a4",
   "metadata": {},
   "outputs": [
    {
     "name": "stdout",
     "output_type": "stream",
     "text": [
      "              precision    recall  f1-score   support\n",
      "\n",
      "           0       0.83      0.96      0.89      4183\n",
      "           1       0.69      0.31      0.43      1150\n",
      "\n",
      "    accuracy                           0.82      5333\n",
      "   macro avg       0.76      0.63      0.66      5333\n",
      "weighted avg       0.80      0.82      0.79      5333\n",
      "\n"
     ]
    }
   ],
   "source": [
    "from sklearn.metrics import classification_report\n",
    "print(classification_report(Y_test,predictions))"
   ]
  },
  {
   "cell_type": "code",
   "execution_count": null,
   "id": "095a10e9",
   "metadata": {},
   "outputs": [],
   "source": []
  },
  {
   "cell_type": "code",
   "execution_count": null,
   "id": "54b4b595",
   "metadata": {},
   "outputs": [],
   "source": []
  },
  {
   "cell_type": "code",
   "execution_count": 50,
   "id": "bc646c75",
   "metadata": {},
   "outputs": [],
   "source": [
    "from sklearn.ensemble import VotingClassifier\n",
    "clf_LR = LogisticRegression(random_state=42,C=10, penalty = 'l1',max_iter = 200, solver = 'liblinear')\n",
    "clf_RF = RandomForestClassifier(n_estimators=200,bootstrap = True,criterion= 'entropy')\n",
    "clf_SVC = SVC(C=10, random_state=42,kernel = 'rbf')\n",
    "\n",
    "clf = VotingClassifier(estimators=[('lr', clf_LR), ('rf', clf_RF), ('svm', clf_SVC)], voting='soft')\n",
    "clf = clf.fit(X_train,Y_train)"
   ]
  },
  {
   "cell_type": "code",
   "execution_count": 49,
   "id": "4e3ad5f4",
   "metadata": {},
   "outputs": [
    {
     "name": "stdout",
     "output_type": "stream",
     "text": [
      "0.8209263078942434\n",
      "[[4038  145]\n",
      " [ 810  340]]\n"
     ]
    }
   ],
   "source": [
    "predictions = clf.predict(X_test)\n",
    "print(clf.score(X_test,Y_test))\n",
    "print(confusion_matrix(Y_test, predictions))"
   ]
  },
  {
   "cell_type": "code",
   "execution_count": 10,
   "id": "991e4e5c",
   "metadata": {},
   "outputs": [
    {
     "name": "stdout",
     "output_type": "stream",
     "text": [
      "Model: \"sequential_1\"\n",
      "_________________________________________________________________\n",
      "Layer (type)                 Output Shape              Param #   \n",
      "=================================================================\n",
      "dense_3 (Dense)              (None, 10)                140       \n",
      "_________________________________________________________________\n",
      "dense_4 (Dense)              (None, 7)                 77        \n",
      "_________________________________________________________________\n",
      "dense_5 (Dense)              (None, 1)                 8         \n",
      "=================================================================\n",
      "Total params: 225\n",
      "Trainable params: 225\n",
      "Non-trainable params: 0\n",
      "_________________________________________________________________\n"
     ]
    }
   ],
   "source": [
    "from tensorflow.keras.models import Sequential\n",
    "from tensorflow.keras.layers import Dense\n",
    "\n",
    "model = Sequential()\n",
    "model.add(Dense(10, input_dim = len(X_train[0, :]), activation = 'relu'))\n",
    "model.add(Dense(7, activation = 'relu'))\n",
    "model.add(Dense(1, activation = 'sigmoid'))\n",
    "model.summary()"
   ]
  },
  {
   "cell_type": "code",
   "execution_count": 7,
   "id": "f0fd55a6",
   "metadata": {},
   "outputs": [],
   "source": [
    "from keras import backend as K\n",
    "\n",
    "def recall_m(y_true, y_pred):\n",
    "    true_positives = K.sum(K.round(K.clip(y_true * y_pred, 0, 1)))\n",
    "    possible_positives = K.sum(K.round(K.clip(y_true, 0, 1)))\n",
    "    recall = true_positives / (possible_positives + K.epsilon())\n",
    "    return recall\n",
    "\n",
    "def precision_m(y_true, y_pred):\n",
    "    true_positives = K.sum(K.round(K.clip(y_true * y_pred, 0, 1)))\n",
    "    predicted_positives = K.sum(K.round(K.clip(y_pred, 0, 1)))\n",
    "    precision = true_positives / (predicted_positives + K.epsilon())\n",
    "    return precision\n",
    "\n",
    "def f1_m(y_true, y_pred):\n",
    "    precision = precision_m(y_true, y_pred)\n",
    "    recall = recall_m(y_true, y_pred)\n",
    "    return 2*((precision*recall)/(precision+recall+K.epsilon()))"
   ]
  },
  {
   "cell_type": "code",
   "execution_count": 11,
   "id": "a0f82916",
   "metadata": {},
   "outputs": [
    {
     "name": "stdout",
     "output_type": "stream",
     "text": [
      "Epoch 1/10\n",
      "1707/1707 [==============================] - 3s 1ms/step - loss: 0.2342 - acc: 0.7910 - f1_m: 0.3209 - precision_m: 0.4273 - recall_m: 0.3022 - val_loss: 0.1955 - val_acc: 0.8071 - val_f1_m: 0.3450 - val_precision_m: 0.4764 - val_recall_m: 0.3036\n",
      "Epoch 2/10\n",
      "1707/1707 [==============================] - 2s 1ms/step - loss: 0.1895 - acc: 0.8128 - f1_m: 0.3365 - precision_m: 0.4467 - recall_m: 0.3004 - val_loss: 0.1903 - val_acc: 0.8125 - val_f1_m: 0.3381 - val_precision_m: 0.4799 - val_recall_m: 0.2886\n",
      "Epoch 3/10\n",
      "1707/1707 [==============================] - 2s 1ms/step - loss: 0.1856 - acc: 0.8156 - f1_m: 0.3411 - precision_m: 0.4593 - recall_m: 0.3031 - val_loss: 0.1873 - val_acc: 0.8137 - val_f1_m: 0.3517 - val_precision_m: 0.4960 - val_recall_m: 0.3017\n",
      "Epoch 4/10\n",
      "1707/1707 [==============================] - 2s 1ms/step - loss: 0.1844 - acc: 0.8156 - f1_m: 0.3428 - precision_m: 0.4601 - recall_m: 0.3062 - val_loss: 0.1874 - val_acc: 0.8137 - val_f1_m: 0.3548 - val_precision_m: 0.4940 - val_recall_m: 0.3079\n",
      "Epoch 5/10\n",
      "1707/1707 [==============================] - 2s 1ms/step - loss: 0.1835 - acc: 0.8165 - f1_m: 0.3443 - precision_m: 0.4623 - recall_m: 0.3099 - val_loss: 0.1868 - val_acc: 0.8135 - val_f1_m: 0.3535 - val_precision_m: 0.4960 - val_recall_m: 0.3047\n",
      "Epoch 6/10\n",
      "1707/1707 [==============================] - 2s 1ms/step - loss: 0.1824 - acc: 0.8183 - f1_m: 0.3570 - precision_m: 0.4890 - recall_m: 0.3158 - val_loss: 0.1853 - val_acc: 0.8153 - val_f1_m: 0.3649 - val_precision_m: 0.5030 - val_recall_m: 0.3175\n",
      "Epoch 7/10\n",
      "1707/1707 [==============================] - 2s 1ms/step - loss: 0.1811 - acc: 0.8190 - f1_m: 0.3454 - precision_m: 0.4694 - recall_m: 0.3063 - val_loss: 0.1844 - val_acc: 0.8163 - val_f1_m: 0.3799 - val_precision_m: 0.5092 - val_recall_m: 0.3386\n",
      "Epoch 8/10\n",
      "1707/1707 [==============================] - 2s 1ms/step - loss: 0.1806 - acc: 0.8197 - f1_m: 0.3672 - precision_m: 0.4954 - recall_m: 0.3284 - val_loss: 0.1841 - val_acc: 0.8165 - val_f1_m: 0.3791 - val_precision_m: 0.5116 - val_recall_m: 0.3362\n",
      "Epoch 9/10\n",
      "1707/1707 [==============================] - 3s 2ms/step - loss: 0.1806 - acc: 0.8192 - f1_m: 0.3621 - precision_m: 0.4806 - recall_m: 0.3246 - val_loss: 0.1858 - val_acc: 0.8146 - val_f1_m: 0.3387 - val_precision_m: 0.4856 - val_recall_m: 0.2866\n",
      "Epoch 10/10\n",
      "1707/1707 [==============================] - 2s 1ms/step - loss: 0.1803 - acc: 0.8202 - f1_m: 0.3555 - precision_m: 0.4745 - recall_m: 0.3162 - val_loss: 0.1833 - val_acc: 0.8174 - val_f1_m: 0.3806 - val_precision_m: 0.5122 - val_recall_m: 0.3371\n"
     ]
    }
   ],
   "source": [
    "from tensorflow import keras\n",
    "opt = keras.optimizers.RMSprop(learning_rate=0.001)\n",
    "model.compile(optimizer=opt, loss='mean_absolute_error', metrics=['acc',f1_m,precision_m, recall_m])\n",
    "history = model.fit(X_train, Y_train, validation_split=0.2, epochs=10, batch_size = 10)\n",
    "loss, accuracy, f1_score, precision, recall = model.evaluate(X_test, Y_test, verbose=0)"
   ]
  },
  {
   "cell_type": "code",
   "execution_count": 12,
   "id": "31a4e60e",
   "metadata": {
    "scrolled": true
   },
   "outputs": [
    {
     "data": {
      "text/plain": [
       "(0.17555484175682068,\n",
       " 0.8250515460968018,\n",
       " 0.4487931430339813,\n",
       " 0.6808383464813232,\n",
       " 0.3604806363582611)"
      ]
     },
     "execution_count": 12,
     "metadata": {},
     "output_type": "execute_result"
    }
   ],
   "source": [
    "loss, accuracy, f1_score, precision, recall"
   ]
  },
  {
   "cell_type": "code",
   "execution_count": null,
   "id": "af637524",
   "metadata": {},
   "outputs": [],
   "source": []
  }
 ],
 "metadata": {
  "hide_input": false,
  "kernelspec": {
   "display_name": "Python 3 (ipykernel)",
   "language": "python",
   "name": "python3"
  },
  "language_info": {
   "codemirror_mode": {
    "name": "ipython",
    "version": 3
   },
   "file_extension": ".py",
   "mimetype": "text/x-python",
   "name": "python",
   "nbconvert_exporter": "python",
   "pygments_lexer": "ipython3",
   "version": "3.8.12"
  },
  "latex_envs": {
   "LaTeX_envs_menu_present": true,
   "autoclose": false,
   "autocomplete": true,
   "bibliofile": "biblio.bib",
   "cite_by": "apalike",
   "current_citInitial": 1,
   "eqLabelWithNumbers": true,
   "eqNumInitial": 1,
   "hotkeys": {
    "equation": "Ctrl-E",
    "itemize": "Ctrl-I"
   },
   "labels_anchors": false,
   "latex_user_defs": false,
   "report_style_numbering": false,
   "user_envs_cfg": false
  }
 },
 "nbformat": 4,
 "nbformat_minor": 5
}
